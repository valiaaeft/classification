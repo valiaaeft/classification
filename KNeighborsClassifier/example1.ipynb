{
 "cells": [
  {
   "cell_type": "code",
   "execution_count": 2,
   "id": "7d64a6f3",
   "metadata": {},
   "outputs": [
    {
     "name": "stdout",
     "output_type": "stream",
     "text": [
      "[1 2 1 2]\n"
     ]
    }
   ],
   "source": [
    "import time\n",
    "import pandas as pd\n",
    "import numpy as np\n",
    "from sklearn.neighbors import KNeighborsClassifier\n",
    "\n",
    "training = [[1, 1], [-5, 6]]\n",
    "labels  =[1, 2]\n",
    "neigh = KNeighborsClassifier(n_neighbors=1)  #initialise the classifier\n",
    "neigh.fit(training, labels)                      #fit the training set = conductors\n",
    "queries = [[30, -1], [-20, 3], [1, 4], [9, 100]]\n",
    "d =  neigh.predict(queries)\n",
    "\n",
    "print(d) #print the labels for the query points"
   ]
  },
  {
   "cell_type": "code",
   "execution_count": null,
   "id": "3305a721",
   "metadata": {},
   "outputs": [],
   "source": []
  }
 ],
 "metadata": {
  "kernelspec": {
   "display_name": "Python 3 (ipykernel)",
   "language": "python",
   "name": "python3"
  },
  "language_info": {
   "codemirror_mode": {
    "name": "ipython",
    "version": 3
   },
   "file_extension": ".py",
   "mimetype": "text/x-python",
   "name": "python",
   "nbconvert_exporter": "python",
   "pygments_lexer": "ipython3",
   "version": "3.9.12"
  }
 },
 "nbformat": 4,
 "nbformat_minor": 5
}
